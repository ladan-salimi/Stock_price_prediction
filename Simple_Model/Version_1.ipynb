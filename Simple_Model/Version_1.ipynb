{
 "cells": [
  {
   "cell_type": "code",
   "execution_count": 1,
   "id": "9e2ecbe0-45f4-4d01-8124-d36f02427597",
   "metadata": {},
   "outputs": [
    {
     "name": "stdout",
     "output_type": "stream",
     "text": [
      "/home/ladans/DNN/Project\n",
      "/home/ladans/DNN/Project/Dataset\n"
     ]
    }
   ],
   "source": [
    "import os\n",
    "current_directory = os.getcwd()\n",
    "print(current_directory)\n",
    "dir_base = os.path.join(current_directory,'Dataset')\n",
    "print(dir_base)"
   ]
  },
  {
   "cell_type": "code",
   "execution_count": 3,
   "id": "204a63ea-cbe3-40ff-af16-eb33e1dc28b0",
   "metadata": {},
   "outputs": [
    {
     "data": {
      "text/html": [
       "<div>\n",
       "<style scoped>\n",
       "    .dataframe tbody tr th:only-of-type {\n",
       "        vertical-align: middle;\n",
       "    }\n",
       "\n",
       "    .dataframe tbody tr th {\n",
       "        vertical-align: top;\n",
       "    }\n",
       "\n",
       "    .dataframe thead th {\n",
       "        text-align: right;\n",
       "    }\n",
       "</style>\n",
       "<table border=\"1\" class=\"dataframe\">\n",
       "  <thead>\n",
       "    <tr style=\"text-align: right;\">\n",
       "      <th></th>\n",
       "      <th>Date</th>\n",
       "      <th>Open</th>\n",
       "      <th>Close</th>\n",
       "      <th>Stock_Symbol</th>\n",
       "      <th>Stock_Index</th>\n",
       "    </tr>\n",
       "  </thead>\n",
       "  <tbody>\n",
       "    <tr>\n",
       "      <th>0</th>\n",
       "      <td>2012-09-04</td>\n",
       "      <td>95.108574</td>\n",
       "      <td>96.424286</td>\n",
       "      <td>AAPL</td>\n",
       "      <td>0</td>\n",
       "    </tr>\n",
       "    <tr>\n",
       "      <th>1</th>\n",
       "      <td>2012-09-05</td>\n",
       "      <td>96.510002</td>\n",
       "      <td>95.747147</td>\n",
       "      <td>AAPL</td>\n",
       "      <td>0</td>\n",
       "    </tr>\n",
       "    <tr>\n",
       "      <th>2</th>\n",
       "      <td>2012-09-06</td>\n",
       "      <td>96.167145</td>\n",
       "      <td>96.610001</td>\n",
       "      <td>AAPL</td>\n",
       "      <td>0</td>\n",
       "    </tr>\n",
       "    <tr>\n",
       "      <th>3</th>\n",
       "      <td>2012-09-07</td>\n",
       "      <td>96.864288</td>\n",
       "      <td>97.205711</td>\n",
       "      <td>AAPL</td>\n",
       "      <td>0</td>\n",
       "    </tr>\n",
       "    <tr>\n",
       "      <th>4</th>\n",
       "      <td>2012-09-10</td>\n",
       "      <td>97.207146</td>\n",
       "      <td>94.677139</td>\n",
       "      <td>AAPL</td>\n",
       "      <td>0</td>\n",
       "    </tr>\n",
       "  </tbody>\n",
       "</table>\n",
       "</div>"
      ],
      "text/plain": [
       "         Date       Open      Close Stock_Symbol  Stock_Index\n",
       "0  2012-09-04  95.108574  96.424286         AAPL            0\n",
       "1  2012-09-05  96.510002  95.747147         AAPL            0\n",
       "2  2012-09-06  96.167145  96.610001         AAPL            0\n",
       "3  2012-09-07  96.864288  97.205711         AAPL            0\n",
       "4  2012-09-10  97.207146  94.677139         AAPL            0"
      ]
     },
     "execution_count": 3,
     "metadata": {},
     "output_type": "execute_result"
    }
   ],
   "source": [
    "import pandas as pd\n",
    "import glob\n",
    "import os\n",
    "import numpy as np\n",
    "from sklearn.preprocessing import LabelEncoder\n",
    "from keras.models import Model\n",
    "from keras.layers import Embedding, LSTM, Dense, Input, Concatenate\n",
    "from keras.layers import Flatten, RepeatVector\n",
    "\n",
    "# Directory containing CSV files\n",
    "data_dir = dir_base\n",
    "\n",
    "# Initialize an empty DataFrame\n",
    "all_data = pd.DataFrame()\n",
    "\n",
    "# Iterate over each file in the directory\n",
    "for file_path in glob.glob(os.path.join(data_dir, \"*.csv\")):\n",
    "    # Extract stock symbol from the filename\n",
    "    stock_symbol = os.path.basename(file_path).split('.')[0]\n",
    "    \n",
    "    # Load the CSV\n",
    "    df = pd.read_csv(file_path)\n",
    "    \n",
    "    # Add a column for the stock symbol\n",
    "    df['Stock_Symbol'] = stock_symbol\n",
    "    \n",
    "    # Optional: Select only necessary columns\n",
    "    df = df[['Date', 'Open', 'Close', 'Stock_Symbol']]\n",
    "    \n",
    "    # Append to the main DataFrame\n",
    "    all_data = pd.concat([all_data, df], ignore_index=True)\n",
    "\n",
    "# Sort by date and stock symbol if needed\n",
    "all_data = all_data.sort_values(['Stock_Symbol', 'Date']).reset_index(drop=True)\n",
    "\n",
    "# Encode stock symbols\n",
    "encoder = LabelEncoder()\n",
    "all_data['Stock_Index'] = encoder.fit_transform(all_data['Stock_Symbol'])\n",
    "all_data.head()"
   ]
  },
  {
   "cell_type": "code",
   "execution_count": 4,
   "id": "07420667-251f-42ec-9af8-7ac1c273d55d",
   "metadata": {},
   "outputs": [
    {
     "name": "stdout",
     "output_type": "stream",
     "text": [
      "3929\n"
     ]
    }
   ],
   "source": [
    "# Parameters\n",
    "sequence_length = 30  # Days in each input sequence\n",
    "test_ratio = 0.2\n",
    "\n",
    "# Initialize lists for inputs and outputs\n",
    "X, y, stock_indices = [], [], []\n",
    "\n",
    "for stock in all_data['Stock_Symbol'].unique():\n",
    "    stock_data = all_data[all_data['Stock_Symbol'] == stock]\n",
    "    \n",
    "    # Normalize 'Close' price data for this stock\n",
    "    prices = stock_data['Close'].values\n",
    "    normalized_prices = prices / prices[0] - 1  # Normalize with respect to the first value\n",
    "    \n",
    "    # Create sequences of length `sequence_length`\n",
    "    for i in range(len(normalized_prices) - sequence_length):\n",
    "        X.append(normalized_prices[i: i + sequence_length])\n",
    "        y.append(normalized_prices[i + sequence_length])\n",
    "        stock_indices.append(stock_data['Stock_Index'].iloc[0])  # Same index for the whole stock\n",
    "\n",
    "# Convert to numpy arrays\n",
    "X = np.array(X)\n",
    "y = np.array(y)\n",
    "stock_indices = np.array(stock_indices)\n",
    "\n",
    "# Train-test split\n",
    "train_size = int(len(X) * (1 - test_ratio))\n",
    "X_train, X_test = X[:train_size], X[train_size:]\n",
    "y_train, y_test = y[:train_size], y[train_size:]\n",
    "stock_indices_train, stock_indices_test = stock_indices[:train_size], stock_indices[train_size:]\n",
    "print(train_size)"
   ]
  },
  {
   "cell_type": "code",
   "execution_count": 5,
   "id": "76977d1c-f226-4b1d-bdd9-840db00a5bbb",
   "metadata": {},
   "outputs": [
    {
     "name": "stdout",
     "output_type": "stream",
     "text": [
      "Epoch 1/30\n"
     ]
    },
    {
     "name": "stderr",
     "output_type": "stream",
     "text": [
      "/opt/conda/lib/python3.11/site-packages/keras/src/layers/core/embedding.py:90: UserWarning: Argument `input_length` is deprecated. Just remove it.\n",
      "  warnings.warn(\n",
      "W0000 00:00:1731258058.322287   62377 gpu_device.cc:2344] Cannot dlopen some GPU libraries. Please make sure the missing libraries mentioned above are installed properly if you would like to use GPU. Follow the guide at https://www.tensorflow.org/install/gpu for how to download and setup the required libraries for your platform.\n",
      "Skipping registering GPU devices...\n",
      "/opt/conda/lib/python3.11/site-packages/keras/src/models/functional.py:225: UserWarning: The structure of `inputs` doesn't match the expected structure: ['price_input', 'stock_input']. Received: the structure of inputs=('*', '*')\n",
      "  warnings.warn(\n"
     ]
    },
    {
     "name": "stdout",
     "output_type": "stream",
     "text": [
      "\u001b[1m3929/3929\u001b[0m \u001b[32m━━━━━━━━━━━━━━━━━━━━\u001b[0m\u001b[37m\u001b[0m \u001b[1m44s\u001b[0m 11ms/step - loss: 0.0320\n",
      "Epoch 2/30\n",
      "\u001b[1m3929/3929\u001b[0m \u001b[32m━━━━━━━━━━━━━━━━━━━━\u001b[0m\u001b[37m\u001b[0m \u001b[1m36s\u001b[0m 9ms/step - loss: 0.0022\n",
      "Epoch 3/30\n",
      "\u001b[1m3929/3929\u001b[0m \u001b[32m━━━━━━━━━━━━━━━━━━━━\u001b[0m\u001b[37m\u001b[0m \u001b[1m39s\u001b[0m 10ms/step - loss: 0.0017\n",
      "Epoch 4/30\n",
      "\u001b[1m3929/3929\u001b[0m \u001b[32m━━━━━━━━━━━━━━━━━━━━\u001b[0m\u001b[37m\u001b[0m \u001b[1m37s\u001b[0m 9ms/step - loss: 0.0015\n",
      "Epoch 5/30\n",
      "\u001b[1m3929/3929\u001b[0m \u001b[32m━━━━━━━━━━━━━━━━━━━━\u001b[0m\u001b[37m\u001b[0m \u001b[1m37s\u001b[0m 9ms/step - loss: 0.0015\n",
      "Epoch 6/30\n",
      "\u001b[1m3929/3929\u001b[0m \u001b[32m━━━━━━━━━━━━━━━━━━━━\u001b[0m\u001b[37m\u001b[0m \u001b[1m41s\u001b[0m 10ms/step - loss: 0.0015\n",
      "Epoch 7/30\n",
      "\u001b[1m3929/3929\u001b[0m \u001b[32m━━━━━━━━━━━━━━━━━━━━\u001b[0m\u001b[37m\u001b[0m \u001b[1m39s\u001b[0m 10ms/step - loss: 0.0012\n",
      "Epoch 8/30\n",
      "\u001b[1m3929/3929\u001b[0m \u001b[32m━━━━━━━━━━━━━━━━━━━━\u001b[0m\u001b[37m\u001b[0m \u001b[1m34s\u001b[0m 9ms/step - loss: 0.0013\n",
      "Epoch 9/30\n",
      "\u001b[1m3929/3929\u001b[0m \u001b[32m━━━━━━━━━━━━━━━━━━━━\u001b[0m\u001b[37m\u001b[0m \u001b[1m36s\u001b[0m 9ms/step - loss: 0.0013\n",
      "Epoch 10/30\n",
      "\u001b[1m3929/3929\u001b[0m \u001b[32m━━━━━━━━━━━━━━━━━━━━\u001b[0m\u001b[37m\u001b[0m \u001b[1m38s\u001b[0m 10ms/step - loss: 0.0011\n",
      "Epoch 11/30\n",
      "\u001b[1m3929/3929\u001b[0m \u001b[32m━━━━━━━━━━━━━━━━━━━━\u001b[0m\u001b[37m\u001b[0m \u001b[1m36s\u001b[0m 9ms/step - loss: 0.0012\n",
      "Epoch 12/30\n",
      "\u001b[1m3929/3929\u001b[0m \u001b[32m━━━━━━━━━━━━━━━━━━━━\u001b[0m\u001b[37m\u001b[0m \u001b[1m40s\u001b[0m 10ms/step - loss: 0.0010\n",
      "Epoch 13/30\n",
      "\u001b[1m3929/3929\u001b[0m \u001b[32m━━━━━━━━━━━━━━━━━━━━\u001b[0m\u001b[37m\u001b[0m \u001b[1m37s\u001b[0m 9ms/step - loss: 9.3197e-04\n",
      "Epoch 14/30\n",
      "\u001b[1m3929/3929\u001b[0m \u001b[32m━━━━━━━━━━━━━━━━━━━━\u001b[0m\u001b[37m\u001b[0m \u001b[1m32s\u001b[0m 8ms/step - loss: 9.3007e-04\n",
      "Epoch 15/30\n",
      "\u001b[1m3929/3929\u001b[0m \u001b[32m━━━━━━━━━━━━━━━━━━━━\u001b[0m\u001b[37m\u001b[0m \u001b[1m31s\u001b[0m 8ms/step - loss: 0.0011\n",
      "Epoch 16/30\n",
      "\u001b[1m3929/3929\u001b[0m \u001b[32m━━━━━━━━━━━━━━━━━━━━\u001b[0m\u001b[37m\u001b[0m \u001b[1m33s\u001b[0m 8ms/step - loss: 0.0011\n",
      "Epoch 17/30\n",
      "\u001b[1m3929/3929\u001b[0m \u001b[32m━━━━━━━━━━━━━━━━━━━━\u001b[0m\u001b[37m\u001b[0m \u001b[1m35s\u001b[0m 9ms/step - loss: 0.0010\n",
      "Epoch 18/30\n",
      "\u001b[1m3929/3929\u001b[0m \u001b[32m━━━━━━━━━━━━━━━━━━━━\u001b[0m\u001b[37m\u001b[0m \u001b[1m37s\u001b[0m 10ms/step - loss: 0.0010\n",
      "Epoch 19/30\n",
      "\u001b[1m3929/3929\u001b[0m \u001b[32m━━━━━━━━━━━━━━━━━━━━\u001b[0m\u001b[37m\u001b[0m \u001b[1m40s\u001b[0m 10ms/step - loss: 9.4932e-04\n",
      "Epoch 20/30\n",
      "\u001b[1m3929/3929\u001b[0m \u001b[32m━━━━━━━━━━━━━━━━━━━━\u001b[0m\u001b[37m\u001b[0m \u001b[1m36s\u001b[0m 9ms/step - loss: 9.4505e-04\n",
      "Epoch 21/30\n",
      "\u001b[1m3929/3929\u001b[0m \u001b[32m━━━━━━━━━━━━━━━━━━━━\u001b[0m\u001b[37m\u001b[0m \u001b[1m39s\u001b[0m 10ms/step - loss: 8.8713e-04\n",
      "Epoch 22/30\n",
      "\u001b[1m3929/3929\u001b[0m \u001b[32m━━━━━━━━━━━━━━━━━━━━\u001b[0m\u001b[37m\u001b[0m \u001b[1m36s\u001b[0m 9ms/step - loss: 9.4528e-04\n",
      "Epoch 23/30\n",
      "\u001b[1m3929/3929\u001b[0m \u001b[32m━━━━━━━━━━━━━━━━━━━━\u001b[0m\u001b[37m\u001b[0m \u001b[1m40s\u001b[0m 10ms/step - loss: 9.0292e-04\n",
      "Epoch 24/30\n",
      "\u001b[1m3929/3929\u001b[0m \u001b[32m━━━━━━━━━━━━━━━━━━━━\u001b[0m\u001b[37m\u001b[0m \u001b[1m35s\u001b[0m 9ms/step - loss: 8.6994e-04\n",
      "Epoch 25/30\n",
      "\u001b[1m3929/3929\u001b[0m \u001b[32m━━━━━━━━━━━━━━━━━━━━\u001b[0m\u001b[37m\u001b[0m \u001b[1m34s\u001b[0m 9ms/step - loss: 8.8943e-04\n",
      "Epoch 26/30\n",
      "\u001b[1m3929/3929\u001b[0m \u001b[32m━━━━━━━━━━━━━━━━━━━━\u001b[0m\u001b[37m\u001b[0m \u001b[1m35s\u001b[0m 9ms/step - loss: 9.2685e-04\n",
      "Epoch 27/30\n",
      "\u001b[1m3929/3929\u001b[0m \u001b[32m━━━━━━━━━━━━━━━━━━━━\u001b[0m\u001b[37m\u001b[0m \u001b[1m38s\u001b[0m 10ms/step - loss: 8.9709e-04\n",
      "Epoch 28/30\n",
      "\u001b[1m3929/3929\u001b[0m \u001b[32m━━━━━━━━━━━━━━━━━━━━\u001b[0m\u001b[37m\u001b[0m \u001b[1m35s\u001b[0m 9ms/step - loss: 0.0010\n",
      "Epoch 29/30\n",
      "\u001b[1m3929/3929\u001b[0m \u001b[32m━━━━━━━━━━━━━━━━━━━━\u001b[0m\u001b[37m\u001b[0m \u001b[1m33s\u001b[0m 8ms/step - loss: 9.5875e-04\n",
      "Epoch 30/30\n",
      "\u001b[1m3929/3929\u001b[0m \u001b[32m━━━━━━━━━━━━━━━━━━━━\u001b[0m\u001b[37m\u001b[0m \u001b[1m33s\u001b[0m 8ms/step - loss: 8.5003e-04\n"
     ]
    },
    {
     "data": {
      "text/plain": [
       "<keras.src.callbacks.history.History at 0x73aa80cdddd0>"
      ]
     },
     "execution_count": 5,
     "metadata": {},
     "output_type": "execute_result"
    }
   ],
   "source": [
    "#Model:\n",
    "# Number of unique stocks and embedding dimensions\n",
    "num_stocks = len(all_data['Stock_Symbol'].unique())\n",
    "embedding_size = 8\n",
    "\n",
    "# Define inputs\n",
    "price_input = Input(shape=(sequence_length, 1), name='price_input')\n",
    "stock_input = Input(shape=(1,), name='stock_input')\n",
    "\n",
    "\n",
    "# Embedding layer for stock index\n",
    "stock_embedding = Embedding(input_dim=num_stocks, output_dim=embedding_size, input_length=1)(stock_input)\n",
    "stock_embedding = Flatten()(stock_embedding)  # Flatten to 2D (batch_size, embedding_size)\n",
    "stock_embedding = RepeatVector(sequence_length)(stock_embedding)  # Replicate to match LSTM input shape\n",
    "\n",
    "# Concatenate price input with stock embedding\n",
    "merged_input = Concatenate(axis=2)([price_input, stock_embedding])\n",
    "\n",
    "\n",
    "# LSTM layer\n",
    "lstm_out = LSTM(units=256)(merged_input)\n",
    "\n",
    "# Output layer\n",
    "output = Dense(units=1)(lstm_out)\n",
    "\n",
    "# Define and compile the model\n",
    "model = Model(inputs=[price_input, stock_input], outputs=output)\n",
    "model.compile(optimizer='adam', loss='mean_squared_error')\n",
    "\n",
    "# Train the model\n",
    "model.fit([X_train, stock_indices_train], y_train, epochs=30, batch_size=1, verbose=1)"
   ]
  },
  {
   "cell_type": "code",
   "execution_count": null,
   "id": "3902189d-4bd3-4798-8760-3b1354ad6a8e",
   "metadata": {},
   "outputs": [],
   "source": [
    "# Save the model\n",
    "model.save(\"stock_price_prediction_model.h5\")\n",
    "###################################################################\n",
    "from keras.models import load_model\n",
    "model = load_model(\"stock_price_prediction_model.h5\")\n",
    "##################################################################"
   ]
  },
  {
   "cell_type": "code",
   "execution_count": 6,
   "id": "ecc828e2-f53b-48d6-85ad-8867bd476459",
   "metadata": {},
   "outputs": [
    {
     "name": "stdout",
     "output_type": "stream",
     "text": [
      "\u001b[1m31/31\u001b[0m \u001b[32m━━━━━━━━━━━━━━━━━━━━\u001b[0m\u001b[37m\u001b[0m \u001b[1m1s\u001b[0m 16ms/step\n",
      "MAE: 0.01555167069951147\n",
      "MSE: 0.0005004598665175244\n",
      "RMSE: 0.02237096033963505\n",
      "MAPE: 76.46615729642133 %\n"
     ]
    },
    {
     "data": {
      "image/png": "[encoded data removed]",
      "text/plain": [
       "<Figure size 1200x600 with 1 Axes>"
      ]
     },
     "metadata": {},
     "output_type": "display_data"
    },
    {
     "name": "stdout",
     "output_type": "stream",
     "text": [
      "MAE for stock MSFT (ID: 3): 0.01555167069951147\n"
     ]
    }
   ],
   "source": [
    "#Evaluation\n",
    "from sklearn.metrics import mean_absolute_error, mean_squared_error\n",
    "\n",
    "# Assuming `model` is your trained model, `X_test` is your test data input\n",
    "predicted_prices = model.predict([X_test, stock_indices_test])\n",
    "\n",
    "# Calculate MAE and MSE\n",
    "mae = mean_absolute_error(y_test, predicted_prices)\n",
    "mse = mean_squared_error(y_test, predicted_prices)\n",
    "rmse = mean_squared_error(y_test, predicted_prices, squared=False)  # Square root of MSE for RMSE\n",
    "\n",
    "# Print results\n",
    "print(\"MAE:\", mae)\n",
    "print(\"MSE:\", mse)\n",
    "print(\"RMSE:\", rmse)\n",
    "\n",
    "mape = np.mean(np.abs((y_test - predicted_prices) / y_test)) * 100\n",
    "print(\"MAPE:\", mape, \"%\")\n",
    "\n",
    "import matplotlib.pyplot as plt\n",
    "\n",
    "# Plot predictions and actual values\n",
    "plt.figure(figsize=(12, 6))\n",
    "plt.plot(y_test, label=\"Actual Prices\", color=\"blue\")\n",
    "plt.plot(predicted_prices, label=\"Predicted Prices\", color=\"red\")\n",
    "plt.xlabel(\"Time\")\n",
    "plt.ylabel(\"Price\")\n",
    "plt.title(\"Actual vs. Predicted Stock Prices\")\n",
    "plt.legend()\n",
    "plt.show()\n",
    "#########################################################\n",
    "for stock_id in np.unique(stock_indices_test):\n",
    "    stock_mask = stock_indices_test == stock_id\n",
    "    stock_symbol = encoder.inverse_transform([stock_id])[0]\n",
    "    stock_mae = mean_absolute_error(y_test[stock_mask], predicted_prices[stock_mask])\n",
    "    print(f\"MAE for stock {stock_symbol} (ID: {stock_id}): {stock_mae}\")\n",
    "#################################################################"
   ]
  },
  {
   "cell_type": "code",
   "execution_count": 7,
   "id": "0b87d344-b80f-4876-9930-4322c274357b",
   "metadata": {},
   "outputs": [
    {
     "name": "stdout",
     "output_type": "stream",
     "text": [
      "\u001b[1m1/1\u001b[0m \u001b[32m━━━━━━━━━━━━━━━━━━━━\u001b[0m\u001b[37m\u001b[0m \u001b[1m0s\u001b[0m 22ms/step\n",
      "Predicted next price for AAPL (original scale): 237.82776991742895\n"
     ]
    }
   ],
   "source": [
    "# # Predict the next price for a new sequence from AAPL\n",
    "# array_30_values = X_test[-1]\n",
    "\n",
    "# new_sequence = array_30_values.reshape((1, sequence_length))\n",
    "\n",
    "# # Find the encoded index for AAPL\n",
    "# stock_index = encoder.transform(['AAPL'])\n",
    "\n",
    "# # Predict\n",
    "# predicted_price = model.predict([new_sequence, stock_index])\n",
    "# #Denormalize\n",
    "# print(\"Predicted next price for AAPL:\", predicted_price[0][0])\n",
    "##############################################################\n",
    "# Predict the next price for a new sequence from AAPL\n",
    "array_30_values = X_test[-1]\n",
    "new_sequence = array_30_values.reshape((1, sequence_length))\n",
    "\n",
    "# Find the encoded index for AAPL\n",
    "stock_index = encoder.transform(['AAPL'])\n",
    "\n",
    "# Predict (normalized value)\n",
    "predicted_normalized_price = model.predict([new_sequence, stock_index])\n",
    "\n",
    "# Reverse normalization\n",
    "# Retrieve the first price of the sequence used to normalize this stock\n",
    "original_starting_price = all_data[(all_data['Stock_Symbol'] == 'AAPL')]['Close'].values[0]\n",
    "predicted_price_original_scale = (predicted_normalized_price[0][0] + 1) * original_starting_price\n",
    "\n",
    "print(\"Predicted next price for AAPL (original scale):\", predicted_price_original_scale)"
   ]
  },
  {
   "cell_type": "code",
   "execution_count": null,
   "id": "1814ceaa-26e6-4639-bf02-0920b4bddca2",
   "metadata": {},
   "outputs": [],
   "source": []
  }
 ],
 "metadata": {
  "kernelspec": {
   "display_name": "Python 3 (ipykernel)",
   "language": "python",
   "name": "python3"
  },
  "language_info": {
   "codemirror_mode": {
    "name": "ipython",
    "version": 3
   },
   "file_extension": ".py",
   "mimetype": "text/x-python",
   "name": "python",
   "nbconvert_exporter": "python",
   "pygments_lexer": "ipython3",
   "version": "3.11.6"
  }
 },
 "nbformat": 4,
 "nbformat_minor": 5
}
